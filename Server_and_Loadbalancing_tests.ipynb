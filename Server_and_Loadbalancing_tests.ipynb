{
 "cells": [
  {
   "cell_type": "code",
   "execution_count": 14,
   "metadata": {},
   "outputs": [],
   "source": [
    "#Begin Portion 1#\n",
    "import random\n",
    "\n",
    "class Server:\n",
    "    def __init__(self):\n",
    "        \"\"\"Creates a new server instance, with no active connections.\"\"\"\n",
    "        self.connections = {}\n",
    "        print('Server class constructor called')\n",
    "\n",
    "    def add_connection(self, connection_id):\n",
    "        print('Add of server called')\n",
    "        \"\"\"Adds a new connection to this server.\"\"\"\n",
    "        connection_load = random.random()*10+1\n",
    "        # Add the connection to the dictionary with the calculated load\n",
    "        self.connections[connection_id] = connection_load\n",
    "\n",
    "    def close_connection(self, connection_id):\n",
    "        print('Close of server called')\n",
    "        \"\"\"Closes a connection on this server.\"\"\"\n",
    "        # Remove the connection from the dictionary\n",
    "        del self.connections[connection_id]\n",
    "\n",
    "    def load(self):\n",
    "        print(\"Load of server called\")\n",
    "        \"\"\"Calculates the current load for all connections.\"\"\"\n",
    "        total = 0\n",
    "        # Add up the load for each of the connections\n",
    "        for load in self.connections.values():\n",
    "            total+=load\n",
    "        return total\n",
    "\n",
    "    def __str__(self):\n",
    "        \"\"\"Returns a string with the current load of the server\"\"\"\n",
    "        return \"{:.2f}%\".format(self.load())\n",
    "    \n",
    "#End Portion 1#"
   ]
  },
  {
   "cell_type": "code",
   "execution_count": 15,
   "metadata": {},
   "outputs": [
    {
     "name": "stdout",
     "output_type": "stream",
     "text": [
      "Server class constructor called\n",
      "Add of server called\n",
      "Load of server called\n",
      "2.5348478071098928\n"
     ]
    }
   ],
   "source": [
    "server = Server()\n",
    "server.add_connection(\"192.168.1.1\")\n",
    "\n",
    "print(server.load())\n",
    "# print(server)\n",
    "\n"
   ]
  },
  {
   "cell_type": "code",
   "execution_count": 16,
   "metadata": {
    "scrolled": true
   },
   "outputs": [
    {
     "name": "stdout",
     "output_type": "stream",
     "text": [
      "Close of server called\n",
      "Load of server called\n",
      "0\n"
     ]
    }
   ],
   "source": [
    "\n",
    "server.close_connection(\"192.168.1.1\")\n",
    "print(server.load())\n"
   ]
  },
  {
   "cell_type": "code",
   "execution_count": 17,
   "metadata": {},
   "outputs": [],
   "source": [
    "#Begin Portion 2#\n",
    "class LoadBalancing:\n",
    "    def __init__(self):\n",
    "        \"\"\"Initialize the load balancing system with one server\"\"\"\n",
    "        print('Load balancing contructor called')\n",
    "        self.connections = {}\n",
    "        self.servers = [Server()]\n",
    "        \n",
    "\n",
    "    def add_connection(self, connection_id):\n",
    "        print('Adding connection of load balancing called')\n",
    "        \"\"\"Randomly selects a server and adds a connection to it.\"\"\"\n",
    "        server = random.choice(self.servers)\n",
    "        # Add the connection to the dictionary with the selected server\n",
    "#         self.connections[server] =connection_id \n",
    "        # Add the connection to the server\n",
    "        server.add_connection(connection_id)\n",
    "        self.ensure_availability()\n",
    "\n",
    "    def close_connection(self, connection_id):\n",
    "        print('Closing connection of load balancing called')\n",
    "        \"\"\"Closes the connection on the the server corresponding to connection_id.\"\"\"\n",
    "        # Find out the right server\n",
    "        # Close the connection on the server\n",
    "        # Remove the connection from the load balancer\n",
    "        for server in self.servers:\n",
    "            if connection_id in server.connections:\n",
    "                server.close_connection(connection_id)\n",
    "                break\n",
    "\n",
    "    def avg_load(self):\n",
    "        print('avg load of load balancing called')\n",
    "        \"\"\"Calculates the average load of all servers\"\"\"\n",
    "        # Sum the load of each server and divide by the amount of servers\n",
    "        total_load=0\n",
    "        total_Server=0\n",
    "        for server in self.servers:\n",
    "            total_load+=server.load()\n",
    "            total_Server+=1\n",
    "        \n",
    "        return total_load/total_Server\n",
    "\n",
    "    def ensure_availability(self):\n",
    "        print('ensure availability called')\n",
    "        \"\"\"If the average load is higher than 50, spin up a new server\"\"\"\n",
    "        if self.avg_load() >50:\n",
    "            self.servers.append(Server())\n",
    "\n",
    "    def __str__(self):\n",
    "        \"\"\"Returns a string with the load for each server.\"\"\"\n",
    "        loads = [str(server) for server in self.servers]\n",
    "        return \"[{}]\".format(\",\".join(loads))\n",
    "#End Portion 2#"
   ]
  },
  {
   "cell_type": "code",
   "execution_count": 18,
   "metadata": {},
   "outputs": [
    {
     "name": "stdout",
     "output_type": "stream",
     "text": [
      "Load balancing contructor called\n",
      "Server class constructor called\n",
      "Adding connection of load balancing called\n",
      "Add of server called\n",
      "ensure availability called\n",
      "avg load of load balancing called\n",
      "Load of server called\n",
      "avg load of load balancing called\n",
      "Load of server called\n",
      "7.0553442563096995\n"
     ]
    }
   ],
   "source": [
    "l = LoadBalancing()\n",
    "l.add_connection(\"fdca:83d2::f20d\")\n",
    "print(l.avg_load())\n"
   ]
  },
  {
   "attachments": {},
   "cell_type": "markdown",
   "metadata": {},
   "source": [
    "Adding a new server , avg_load should become half of the above we got!"
   ]
  },
  {
   "cell_type": "code",
   "execution_count": 19,
   "metadata": {},
   "outputs": [
    {
     "name": "stdout",
     "output_type": "stream",
     "text": [
      "Server class constructor called\n",
      "avg load of load balancing called\n",
      "Load of server called\n",
      "Load of server called\n",
      "3.5276721281548498\n"
     ]
    }
   ],
   "source": [
    "l.servers.append(Server())\n",
    "print(l.avg_load())\n"
   ]
  },
  {
   "cell_type": "code",
   "execution_count": 20,
   "metadata": {},
   "outputs": [
    {
     "name": "stdout",
     "output_type": "stream",
     "text": [
      "Closing connection of load balancing called\n",
      "Close of server called\n",
      "avg load of load balancing called\n",
      "Load of server called\n",
      "Load of server called\n",
      "0.0\n"
     ]
    }
   ],
   "source": [
    "l.close_connection(\"fdca:83d2::f20d\")\n",
    "print(l.avg_load())\n"
   ]
  },
  {
   "cell_type": "code",
   "execution_count": 21,
   "metadata": {},
   "outputs": [
    {
     "name": "stdout",
     "output_type": "stream",
     "text": [
      "Adding connection of load balancing called\n",
      "Add of server called\n",
      "ensure availability called\n",
      "avg load of load balancing called\n",
      "Load of server called\n",
      "Load of server called\n",
      "Adding connection of load balancing called\n",
      "Add of server called\n",
      "ensure availability called\n",
      "avg load of load balancing called\n",
      "Load of server called\n",
      "Load of server called\n",
      "Adding connection of load balancing called\n",
      "Add of server called\n",
      "ensure availability called\n",
      "avg load of load balancing called\n",
      "Load of server called\n",
      "Load of server called\n",
      "Adding connection of load balancing called\n",
      "Add of server called\n",
      "ensure availability called\n",
      "avg load of load balancing called\n",
      "Load of server called\n",
      "Load of server called\n",
      "Adding connection of load balancing called\n",
      "Add of server called\n",
      "ensure availability called\n",
      "avg load of load balancing called\n",
      "Load of server called\n",
      "Load of server called\n",
      "Adding connection of load balancing called\n",
      "Add of server called\n",
      "ensure availability called\n",
      "avg load of load balancing called\n",
      "Load of server called\n",
      "Load of server called\n",
      "Adding connection of load balancing called\n",
      "Add of server called\n",
      "ensure availability called\n",
      "avg load of load balancing called\n",
      "Load of server called\n",
      "Load of server called\n",
      "Adding connection of load balancing called\n",
      "Add of server called\n",
      "ensure availability called\n",
      "avg load of load balancing called\n",
      "Load of server called\n",
      "Load of server called\n",
      "Adding connection of load balancing called\n",
      "Add of server called\n",
      "ensure availability called\n",
      "avg load of load balancing called\n",
      "Load of server called\n",
      "Load of server called\n",
      "Adding connection of load balancing called\n",
      "Add of server called\n",
      "ensure availability called\n",
      "avg load of load balancing called\n",
      "Load of server called\n",
      "Load of server called\n",
      "Adding connection of load balancing called\n",
      "Add of server called\n",
      "ensure availability called\n",
      "avg load of load balancing called\n",
      "Load of server called\n",
      "Load of server called\n",
      "Adding connection of load balancing called\n",
      "Add of server called\n",
      "ensure availability called\n",
      "avg load of load balancing called\n",
      "Load of server called\n",
      "Load of server called\n",
      "Adding connection of load balancing called\n",
      "Add of server called\n",
      "ensure availability called\n",
      "avg load of load balancing called\n",
      "Load of server called\n",
      "Load of server called\n",
      "Adding connection of load balancing called\n",
      "Add of server called\n",
      "ensure availability called\n",
      "avg load of load balancing called\n",
      "Load of server called\n",
      "Load of server called\n",
      "Adding connection of load balancing called\n",
      "Add of server called\n",
      "ensure availability called\n",
      "avg load of load balancing called\n",
      "Load of server called\n",
      "Load of server called\n",
      "Adding connection of load balancing called\n",
      "Add of server called\n",
      "ensure availability called\n",
      "avg load of load balancing called\n",
      "Load of server called\n",
      "Load of server called\n",
      "Adding connection of load balancing called\n",
      "Add of server called\n",
      "ensure availability called\n",
      "avg load of load balancing called\n",
      "Load of server called\n",
      "Load of server called\n",
      "Server class constructor called\n",
      "Adding connection of load balancing called\n",
      "Add of server called\n",
      "ensure availability called\n",
      "avg load of load balancing called\n",
      "Load of server called\n",
      "Load of server called\n",
      "Load of server called\n",
      "Adding connection of load balancing called\n",
      "Add of server called\n",
      "ensure availability called\n",
      "avg load of load balancing called\n",
      "Load of server called\n",
      "Load of server called\n",
      "Load of server called\n",
      "Adding connection of load balancing called\n",
      "Add of server called\n",
      "ensure availability called\n",
      "avg load of load balancing called\n",
      "Load of server called\n",
      "Load of server called\n",
      "Load of server called\n",
      "Load of server called\n",
      "Load of server called\n",
      "Load of server called\n",
      "[66.09%,42.76%,10.02%]\n"
     ]
    }
   ],
   "source": [
    "for connection in range(20):\n",
    "    l.add_connection(connection)\n",
    "print(l)\n"
   ]
  },
  {
   "cell_type": "code",
   "execution_count": 22,
   "metadata": {},
   "outputs": [
    {
     "name": "stdout",
     "output_type": "stream",
     "text": [
      "avg load of load balancing called\n",
      "Load of server called\n",
      "Load of server called\n",
      "Load of server called\n",
      "39.62529550654267\n"
     ]
    }
   ],
   "source": [
    "print(l.avg_load())\n",
    "\n",
    "\n"
   ]
  },
  {
   "attachments": {},
   "cell_type": "markdown",
   "metadata": {},
   "source": [
    "Awesome! If the average load is indeed less than 50%, this script is working as expected"
   ]
  }
 ],
 "metadata": {
  "kernelspec": {
   "display_name": "Python 3",
   "language": "python",
   "name": "python3"
  },
  "language_info": {
   "codemirror_mode": {
    "name": "ipython",
    "version": 3
   },
   "file_extension": ".py",
   "mimetype": "text/x-python",
   "name": "python",
   "nbconvert_exporter": "python",
   "pygments_lexer": "ipython3",
   "version": "3.11.0"
  },
  "vscode": {
   "interpreter": {
    "hash": "10856bc1d2e71a1966e94d94ca186415614e1a330a85301aebcee981daa29641"
   }
  },
  "widgets": {
   "application/vnd.jupyter.widget-state+json": {
    "state": {},
    "version_major": 2,
    "version_minor": 0
   }
  }
 },
 "nbformat": 4,
 "nbformat_minor": 2
}
